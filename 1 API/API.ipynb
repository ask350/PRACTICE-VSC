{
 "cells": [
  {
   "cell_type": "markdown",
   "metadata": {},
   "source": [
    "# API - RAPID API \n",
    "\n",
    "Application Programming interface\n",
    "\n",
    "Current Weather Data of a location - for weather update"
   ]
  },
  {
   "cell_type": "markdown",
   "metadata": {},
   "source": [
    "### Load the API key"
   ]
  },
  {
   "cell_type": "code",
   "execution_count": 8,
   "metadata": {},
   "outputs": [
    {
     "data": {
      "text/plain": [
       "True"
      ]
     },
     "execution_count": 8,
     "metadata": {},
     "output_type": "execute_result"
    }
   ],
   "source": [
    "from dotenv import load_dotenv\n",
    "load_dotenv()"
   ]
  },
  {
   "cell_type": "code",
   "execution_count": 9,
   "metadata": {},
   "outputs": [],
   "source": [
    "import os\n",
    "api_key = os.getenv(\"API_KEY\")"
   ]
  },
  {
   "cell_type": "code",
   "execution_count": 6,
   "metadata": {},
   "outputs": [],
   "source": [
    "import requests"
   ]
  },
  {
   "cell_type": "code",
   "execution_count": 10,
   "metadata": {},
   "outputs": [],
   "source": [
    "def get_location(city):\n",
    "    \n",
    "\turl = \"https://yahoo-weather5.p.rapidapi.com/weather\"\n",
    "\n",
    "\tquerystring = {\"location\":city,\"format\":\"json\",\"u\":\"f\"}\n",
    "\n",
    "\theaders = {\n",
    "\t\t\"x-rapidapi-key\": api_key,\n",
    "\t\t\"x-rapidapi-host\": \"yahoo-weather5.p.rapidapi.com\"\n",
    "\t}\n",
    "\n",
    "\tresponse = requests.get(url, headers=headers, params=querystring)\n",
    "\n",
    "\treturn response.json()"
   ]
  },
  {
   "cell_type": "code",
   "execution_count": 11,
   "metadata": {},
   "outputs": [
    {
     "data": {
      "text/plain": [
       "{'location': {'city': 'Pune',\n",
       "  'woeid': 2295412,\n",
       "  'country': 'India',\n",
       "  'lat': 18.53611,\n",
       "  'long': 73.85218,\n",
       "  'timezone_id': 'Asia/Kolkata'},\n",
       " 'current_observation': {'pubDate': 1734961295,\n",
       "  'wind': {'chill': 74, 'direction': 'NW', 'speed': 7},\n",
       "  'atmosphere': {'humidity': 64, 'visibility': 10, 'pressure': 1012.9},\n",
       "  'astronomy': {'sunrise': '7:03 AM', 'sunset': '6:04 PM'},\n",
       "  'condition': {'temperature': 76, 'text': 'Fair'}},\n",
       " 'forecasts': [{'day': 'Mon',\n",
       "   'date': 1734969600,\n",
       "   'high': 83,\n",
       "   'low': 61,\n",
       "   'text': 'Sunny',\n",
       "   'code': 32},\n",
       "  {'day': 'Tue',\n",
       "   'date': 1735056000,\n",
       "   'high': 86,\n",
       "   'low': 60,\n",
       "   'text': 'Haze',\n",
       "   'code': 21},\n",
       "  {'day': 'Wed',\n",
       "   'date': 1735142400,\n",
       "   'high': 87,\n",
       "   'low': 61,\n",
       "   'text': 'Haze',\n",
       "   'code': 21},\n",
       "  {'day': 'Thu',\n",
       "   'date': 1735228800,\n",
       "   'high': 89,\n",
       "   'low': 61,\n",
       "   'text': 'Thunderstorms',\n",
       "   'code': 4},\n",
       "  {'day': 'Fri',\n",
       "   'date': 1735315200,\n",
       "   'high': 87,\n",
       "   'low': 66,\n",
       "   'text': 'Haze',\n",
       "   'code': 21},\n",
       "  {'day': 'Sat',\n",
       "   'date': 1735401600,\n",
       "   'high': 84,\n",
       "   'low': 55,\n",
       "   'text': 'Mostly Sunny',\n",
       "   'code': 34},\n",
       "  {'day': 'Sun',\n",
       "   'date': 1735488000,\n",
       "   'high': 86,\n",
       "   'low': 52,\n",
       "   'text': 'Partly Cloudy',\n",
       "   'code': 30},\n",
       "  {'day': 'Mon',\n",
       "   'date': 1735574400,\n",
       "   'high': 87,\n",
       "   'low': 53,\n",
       "   'text': 'Sunny',\n",
       "   'code': 32},\n",
       "  {'day': 'Tue',\n",
       "   'date': 1735660800,\n",
       "   'high': 88,\n",
       "   'low': 52,\n",
       "   'text': 'Sunny',\n",
       "   'code': 32},\n",
       "  {'day': 'Wed',\n",
       "   'date': 1735747200,\n",
       "   'high': 92,\n",
       "   'low': 52,\n",
       "   'text': 'Sunny',\n",
       "   'code': 32},\n",
       "  {'day': 'Thu',\n",
       "   'date': 1735833600,\n",
       "   'high': 94,\n",
       "   'low': 53,\n",
       "   'text': 'Sunny',\n",
       "   'code': 32}]}"
      ]
     },
     "execution_count": 11,
     "metadata": {},
     "output_type": "execute_result"
    }
   ],
   "source": [
    "get_location(\"pune\")"
   ]
  },
  {
   "cell_type": "code",
   "execution_count": 14,
   "metadata": {},
   "outputs": [
    {
     "data": {
      "text/plain": [
       "{'cod': '200',\n",
       " 'message': 0,\n",
       " 'cnt': 3,\n",
       " 'list': [{'dt': 1734966000,\n",
       "   'summery': 'clear sky, 283.6K, feels like 281.9K, winds 5.16 meter/sec from North-Northeast, 46% humidity',\n",
       "   'main': {'temprature': 283.6,\n",
       "    'temprature_feels_like': 281.9,\n",
       "    'temprature_min': 283.6,\n",
       "    'temprature_max': 283.69,\n",
       "    'temprature_unit': 'K',\n",
       "    'pressure': 1029,\n",
       "    'sea_level_pressure': 1029,\n",
       "    'ground_level_pressure': 952,\n",
       "    'pressure_unit': 'hPa',\n",
       "    'humidity': 46,\n",
       "    'humidity_unit': '%',\n",
       "    'temp_kf': -0.09},\n",
       "   'weather': [{'id': 800,\n",
       "     'main': 'Clear',\n",
       "     'description': 'clear sky',\n",
       "     'icon': '01d'}],\n",
       "   'clouds': {'cloudiness': 3, 'unit': '%'},\n",
       "   'wind': {'speed': 5.16,\n",
       "    'degrees': 21,\n",
       "    'gust_speed': 7,\n",
       "    'speed_unit': 'meter/sec'},\n",
       "   'visibility_distance': 10000,\n",
       "   'visibility_unit': 'm',\n",
       "   'probability_of_precipitation': 0,\n",
       "   'probability_of_precipitation_unit': '%',\n",
       "   'sys': {'part_of_day': 'day'},\n",
       "   'dt_txt': '2024-12-23 15:00:00'},\n",
       "  {'dt': 1734976800,\n",
       "   'summery': 'clear sky, 282.39K, feels like 281.36K, winds 2.12 meter/sec from North, 50% humidity',\n",
       "   'main': {'temprature': 282.39,\n",
       "    'temprature_feels_like': 281.36,\n",
       "    'temprature_min': 281.81,\n",
       "    'temprature_max': 282.39,\n",
       "    'temprature_unit': 'K',\n",
       "    'pressure': 1028,\n",
       "    'sea_level_pressure': 1028,\n",
       "    'ground_level_pressure': 952,\n",
       "    'pressure_unit': 'hPa',\n",
       "    'humidity': 50,\n",
       "    'humidity_unit': '%',\n",
       "    'temp_kf': 0.58},\n",
       "   'weather': [{'id': 800,\n",
       "     'main': 'Clear',\n",
       "     'description': 'clear sky',\n",
       "     'icon': '01n'}],\n",
       "   'clouds': {'cloudiness': 5, 'unit': '%'},\n",
       "   'wind': {'speed': 2.12,\n",
       "    'degrees': 8,\n",
       "    'gust_speed': 3.5,\n",
       "    'speed_unit': 'meter/sec'},\n",
       "   'visibility_distance': 10000,\n",
       "   'visibility_unit': 'm',\n",
       "   'probability_of_precipitation': 0,\n",
       "   'probability_of_precipitation_unit': '%',\n",
       "   'sys': {'part_of_day': 'night'},\n",
       "   'dt_txt': '2024-12-23 18:00:00'},\n",
       "  {'dt': 1734987600,\n",
       "   'summery': 'clear sky, 280.34K, feels like 279.42K, winds 1.65 meter/sec from North-Northeast, 58% humidity',\n",
       "   'main': {'temprature': 280.34,\n",
       "    'temprature_feels_like': 279.42,\n",
       "    'temprature_min': 280.34,\n",
       "    'temprature_max': 280.34,\n",
       "    'temprature_unit': 'K',\n",
       "    'pressure': 1030,\n",
       "    'sea_level_pressure': 1030,\n",
       "    'ground_level_pressure': 953,\n",
       "    'pressure_unit': 'hPa',\n",
       "    'humidity': 58,\n",
       "    'humidity_unit': '%',\n",
       "    'temp_kf': 0},\n",
       "   'weather': [{'id': 800,\n",
       "     'main': 'Clear',\n",
       "     'description': 'clear sky',\n",
       "     'icon': '01n'}],\n",
       "   'clouds': {'cloudiness': 1, 'unit': '%'},\n",
       "   'wind': {'speed': 1.65,\n",
       "    'degrees': 28,\n",
       "    'gust_speed': 1.98,\n",
       "    'speed_unit': 'meter/sec'},\n",
       "   'visibility_distance': 10000,\n",
       "   'visibility_unit': 'm',\n",
       "   'probability_of_precipitation': 0,\n",
       "   'probability_of_precipitation_unit': '%',\n",
       "   'sys': {'part_of_day': 'night'},\n",
       "   'dt_txt': '2024-12-23 21:00:00'}],\n",
       " 'city': {'id': 3117735,\n",
       "  'name': 'Madrid',\n",
       "  'coord': {'lat': 40.4167, 'lon': -3.7036},\n",
       "  'country': 'ES',\n",
       "  'population': 1000000,\n",
       "  'timezone': 3600,\n",
       "  'sunrise': 1734939331,\n",
       "  'sunrise_txt': '2024-12-23 07:35:31',\n",
       "  'sunset': 1734972749,\n",
       "  'sunset_txt': '2024-12-23 16:52:29'}}"
      ]
     },
     "execution_count": 14,
     "metadata": {},
     "output_type": "execute_result"
    }
   ],
   "source": [
    "get_location(\"madrid\")"
   ]
  },
  {
   "cell_type": "code",
   "execution_count": 15,
   "metadata": {},
   "outputs": [
    {
     "data": {
      "text/plain": [
       "{'cod': '200',\n",
       " 'message': 0,\n",
       " 'cnt': 3,\n",
       " 'list': [{'dt': 1734966000,\n",
       "   'summery': 'light rain, 283.32K, feels like 282.72K, winds 4.79 meter/sec from East-Northeast, 89% humidity',\n",
       "   'main': {'temprature': 283.32,\n",
       "    'temprature_feels_like': 282.72,\n",
       "    'temprature_min': 283.32,\n",
       "    'temprature_max': 283.37,\n",
       "    'temprature_unit': 'K',\n",
       "    'pressure': 1014,\n",
       "    'sea_level_pressure': 1014,\n",
       "    'ground_level_pressure': 962,\n",
       "    'pressure_unit': 'hPa',\n",
       "    'humidity': 89,\n",
       "    'humidity_unit': '%',\n",
       "    'temp_kf': -0.05},\n",
       "   'weather': [{'id': 500,\n",
       "     'main': 'Rain',\n",
       "     'description': 'light rain',\n",
       "     'icon': '10n'}],\n",
       "   'clouds': {'cloudiness': 100, 'unit': '%'},\n",
       "   'wind': {'speed': 4.79,\n",
       "    'degrees': 62,\n",
       "    'gust_speed': 6.8,\n",
       "    'speed_unit': 'meter/sec'},\n",
       "   'visibility_distance': 10000,\n",
       "   'visibility_unit': 'm',\n",
       "   'probability_of_precipitation': 100,\n",
       "   'probability_of_precipitation_unit': '%',\n",
       "   'rain': {'amount': 2.81, 'unit': 'mm in the last '},\n",
       "   'sys': {'part_of_day': 'night'},\n",
       "   'dt_txt': '2024-12-23 15:00:00'},\n",
       "  {'dt': 1734976800,\n",
       "   'summery': 'light rain, 283.31K, feels like 282.81K, winds 0.27 meter/sec from West-Southwest, 93% humidity',\n",
       "   'main': {'temprature': 283.31,\n",
       "    'temprature_feels_like': 282.81,\n",
       "    'temprature_min': 283.31,\n",
       "    'temprature_max': 283.32,\n",
       "    'temprature_unit': 'K',\n",
       "    'pressure': 1015,\n",
       "    'sea_level_pressure': 1015,\n",
       "    'ground_level_pressure': 964,\n",
       "    'pressure_unit': 'hPa',\n",
       "    'humidity': 93,\n",
       "    'humidity_unit': '%',\n",
       "    'temp_kf': -0.01},\n",
       "   'weather': [{'id': 500,\n",
       "     'main': 'Rain',\n",
       "     'description': 'light rain',\n",
       "     'icon': '10n'}],\n",
       "   'clouds': {'cloudiness': 100, 'unit': '%'},\n",
       "   'wind': {'speed': 0.27,\n",
       "    'degrees': 255,\n",
       "    'gust_speed': 0.69,\n",
       "    'speed_unit': 'meter/sec'},\n",
       "   'visibility_distance': 10000,\n",
       "   'visibility_unit': 'm',\n",
       "   'probability_of_precipitation': 100,\n",
       "   'probability_of_precipitation_unit': '%',\n",
       "   'rain': {'amount': 0.73, 'unit': 'mm in the last '},\n",
       "   'sys': {'part_of_day': 'night'},\n",
       "   'dt_txt': '2024-12-23 18:00:00'},\n",
       "  {'dt': 1734987600,\n",
       "   'summery': 'light rain, 282.31K, feels like 282.31K, winds 0.66 meter/sec from Northeast, 97% humidity',\n",
       "   'main': {'temprature': 282.31,\n",
       "    'temprature_feels_like': 282.31,\n",
       "    'temprature_min': 282.31,\n",
       "    'temprature_max': 282.31,\n",
       "    'temprature_unit': 'K',\n",
       "    'pressure': 1015,\n",
       "    'sea_level_pressure': 1015,\n",
       "    'ground_level_pressure': 964,\n",
       "    'pressure_unit': 'hPa',\n",
       "    'humidity': 97,\n",
       "    'humidity_unit': '%',\n",
       "    'temp_kf': 0},\n",
       "   'weather': [{'id': 500,\n",
       "     'main': 'Rain',\n",
       "     'description': 'light rain',\n",
       "     'icon': '10n'}],\n",
       "   'clouds': {'cloudiness': 100, 'unit': '%'},\n",
       "   'wind': {'speed': 0.66,\n",
       "    'degrees': 53,\n",
       "    'gust_speed': 0.84,\n",
       "    'speed_unit': 'meter/sec'},\n",
       "   'visibility_distance': 10000,\n",
       "   'visibility_unit': 'm',\n",
       "   'probability_of_precipitation': 67,\n",
       "   'probability_of_precipitation_unit': '%',\n",
       "   'rain': {'amount': 0.57, 'unit': 'mm in the last '},\n",
       "   'sys': {'part_of_day': 'night'},\n",
       "   'dt_txt': '2024-12-23 21:00:00'}],\n",
       " 'city': {'id': 170063,\n",
       "  'name': 'Aleppo',\n",
       "  'coord': {'lat': 36.1992, 'lon': 37.1637},\n",
       "  'country': 'SY',\n",
       "  'population': 1602264,\n",
       "  'timezone': 10800,\n",
       "  'sunrise': 1734928784,\n",
       "  'sunrise_txt': '2024-12-23 04:39:44',\n",
       "  'sunset': 1734963674,\n",
       "  'sunset_txt': '2024-12-23 14:21:14'}}"
      ]
     },
     "execution_count": 15,
     "metadata": {},
     "output_type": "execute_result"
    }
   ],
   "source": [
    "get_location(\"aleppo\")"
   ]
  },
  {
   "cell_type": "markdown",
   "metadata": {},
   "source": [
    "def air_quality(city):              #disabled due api request limit reached \n",
    "    url = \"https://weather-api167.p.rapidapi.com/api/weather/air_pollution\"\n",
    "\n",
    "    querystring = {\"place\":city,\"type\":\"current\"}\n",
    "\n",
    "    headers = {\n",
    "        \"x-rapidapi-key\": api_key,\n",
    "        \"x-rapidapi-host\": \"weather-api167.p.rapidapi.com\",\n",
    "        \"Accept\": \"application/json\"\n",
    "    }\n",
    "\n",
    "    response = requests.get(url, headers=headers, params=querystring)\n",
    "\n",
    "    return response.json()"
   ]
  },
  {
   "cell_type": "markdown",
   "metadata": {},
   "source": [
    "#air_quality(\"mumbai\")"
   ]
  },
  {
   "cell_type": "code",
   "execution_count": 18,
   "metadata": {},
   "outputs": [
    {
     "data": {
      "text/plain": [
       "{'coord': {'lon': 121.4692, 'lat': 31.2323},\n",
       " 'list': [{'main': {'air_quality_index': 3, 'air_quality': 'Moderate'},\n",
       "   'components': {'co': 640.87,\n",
       "    'no': 0.52,\n",
       "    'no2': 64.43,\n",
       "    'o3': 17.88,\n",
       "    'so2': 47.21,\n",
       "    'pm2_5': 34.32,\n",
       "    'pm10': 69.14,\n",
       "    'nh3': 2.34,\n",
       "    'unit': 'μg/m3'},\n",
       "   'dt': 1734959213,\n",
       "   'dt_txt': '2024-12-23 13:06:53'}]}"
      ]
     },
     "execution_count": 18,
     "metadata": {},
     "output_type": "execute_result"
    }
   ],
   "source": [
    "#air_quality(\"shanghai\")"
   ]
  },
  {
   "cell_type": "code",
   "execution_count": 23,
   "metadata": {},
   "outputs": [
    {
     "data": {
      "text/plain": [
       "{'coord': {'lon': -6.5806, 'lat': 52.8455},\n",
       " 'list': [{'main': {'air_quality_index': 2, 'air_quality': 'Fair'},\n",
       "   'components': {'co': 230.31,\n",
       "    'no': 0.03,\n",
       "    'no2': 4.2,\n",
       "    'o3': 62.23,\n",
       "    'so2': 0.61,\n",
       "    'pm2_5': 1.24,\n",
       "    'pm10': 1.47,\n",
       "    'nh3': 0.63,\n",
       "    'unit': 'μg/m3'},\n",
       "   'dt': 1734959717,\n",
       "   'dt_txt': '2024-12-23 13:15:17'}]}"
      ]
     },
     "execution_count": 23,
     "metadata": {},
     "output_type": "execute_result"
    }
   ],
   "source": [
    "#air_quality(\"vermount\")"
   ]
  },
  {
   "cell_type": "code",
   "execution_count": 19,
   "metadata": {},
   "outputs": [
    {
     "data": {
      "text/plain": [
       "{'coord': {'lon': -0.1276, 'lat': 51.5073},\n",
       " 'list': [{'main': {'air_quality_index': 2, 'air_quality': 'Fair'},\n",
       "   'components': {'co': 243.66,\n",
       "    'no': 0.28,\n",
       "    'no2': 14.4,\n",
       "    'o3': 70.1,\n",
       "    'so2': 5.9,\n",
       "    'pm2_5': 1.14,\n",
       "    'pm10': 2.05,\n",
       "    'nh3': 0.55,\n",
       "    'unit': 'μg/m3'},\n",
       "   'dt': 1734959598,\n",
       "   'dt_txt': '2024-12-23 13:13:18'}]}"
      ]
     },
     "execution_count": 19,
     "metadata": {},
     "output_type": "execute_result"
    }
   ],
   "source": [
    "#AQI = air_quality(\"london\")\n",
    "#AQI"
   ]
  },
  {
   "cell_type": "markdown",
   "metadata": {},
   "source": [
    "## Basics clr, counts per month over"
   ]
  },
  {
   "cell_type": "markdown",
   "metadata": {},
   "source": []
  }
 ],
 "metadata": {
  "kernelspec": {
   "display_name": "Python 3",
   "language": "python",
   "name": "python3"
  },
  "language_info": {
   "codemirror_mode": {
    "name": "ipython",
    "version": 3
   },
   "file_extension": ".py",
   "mimetype": "text/x-python",
   "name": "python",
   "nbconvert_exporter": "python",
   "pygments_lexer": "ipython3",
   "version": "3.12.8"
  }
 },
 "nbformat": 4,
 "nbformat_minor": 2
}
